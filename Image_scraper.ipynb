{
 "cells": [
  {
   "cell_type": "code",
   "execution_count": 42,
   "id": "0f680c90-2ca1-4398-af1c-444dc4dd3824",
   "metadata": {},
   "outputs": [],
   "source": [
    "import requests\n",
    "import logging\n",
    "import os\n",
    "from bs4 import BeautifulSoup\n",
    "from urllib.request import urlopen"
   ]
  },
  {
   "cell_type": "code",
   "execution_count": 43,
   "id": "44f680a5-c021-4d28-9a76-2919c5ea62e5",
   "metadata": {},
   "outputs": [],
   "source": [
    "# pip install bs4"
   ]
  },
  {
   "cell_type": "raw",
   "id": "7a5ef023-bf8a-42d2-994d-de657d2be96d",
   "metadata": {},
   "source": [
    "\"\"\"\n",
    "Open an Anaconda prompt\n",
    "conda create -n imagscraper python=3.8\n",
    "conda activate imagscraper\n",
    "pip install jupyter\n",
    "pip install <package_name>\n",
    "pip install bs4\n",
    "pip install requests\""
   ]
  },
  {
   "cell_type": "code",
   "execution_count": 44,
   "id": "cbd4f2ea-b7d2-4c79-bd9d-e28afd10e073",
   "metadata": {},
   "outputs": [],
   "source": [
    "save_dir = \"images/\"\n",
    "if not os.path.exists(save_dir):\n",
    "    os.makedirs(save_dir)"
   ]
  },
  {
   "cell_type": "code",
   "execution_count": 45,
   "id": "cc0274e3-c7c2-4637-9248-9ba8719559bb",
   "metadata": {},
   "outputs": [],
   "source": [
    "# https://www.google.com/search?q=elon+musk&tbm=isch&ved=2ahUKEwjhxZ7EyrWAAxWqpicCHeLKAeoQ2-cCegQIABAA&oq=elo&gs_lcp=CgNpbWcQARgAMgoIABCKBRCxAxBDMggIABCABBCxAzIICAAQgAQQsQMyCwgAEIAEELEDEIMBMggIABCABBCxAzIICAAQgAQQsQMyBQgAEIAEMgUIABCABDIICAAQgAQQsQMyCAgAEIAEELEDOg0IABCKBRCxAxCDARBDOgcIABCKBRBDOggIABCxAxCDAVC7C1jUEmChJWgAcAB4AIAB1wKIAZgEkgEFMy4zLTGYAQCgAQGqAQtnd3Mtd2l6LWltZ8ABAQ&sclient=img&ei=deXFZKG3LKrNnsEP4pWH0A4&bih=715&biw=1536&rlz=1C1UEAD_enIN928IN928#imgrc=rbv5UDg_qz7G6M\n",
    "# https://www.google.com/search?q=chandrayaan+3&tbm=isch&ved=2ahUKEwjAnaKmyrWAAxWfkScCHR56CA4Q2-cCegQIABAA&oq=chandrayan3&gs_lcp=CgNpbWcQARgAMgkIABAYEIAEEAoyCQgAEBgQgAQQCjIJCAAQGBCABBAKMgkIABAYEIAEEAoyCQgAEBgQgAQQCjIJCAAQGBCABBAKMgkIABAYEIAEEAoyCQgAEBgQgAQQCjIJCAAQGBCABBAKMgkIABAYEIAEEAo6BwgAEIoFEEM6BQgAEIAEOggIABCABBCxAzoICAAQsQMQgwE6CwgAEIAEELEDEIMBOgQIABADUJwaWPUyYJ9EaABwAHgAgAGIAogB7QaSAQYxMS4wLjGYAQCgAQGqAQtnd3Mtd2l6LWltZ8ABAQ&sclient=img&ei=NuXFZMCqNZ-jnsEPnvShcA&bih=715&biw=1536&rlz=1C1UEAD_enIN928IN928#imgrc=DiVJbB7dNo9uGM"
   ]
  },
  {
   "cell_type": "code",
   "execution_count": 46,
   "id": "50132a38-a5be-4036-b97c-1720e9c3e96a",
   "metadata": {},
   "outputs": [],
   "source": [
    "query = \"elon musk\"\n",
    "url = \"https://www.google.com/search?q=elon+musk&tbm=isch&ved=2ahUKEwjhxZ7EyrWAAxWqpicCHeLKAeoQ2-cCegQIABAA&oq=elo&gs_lcp=CgNpbWcQARgAMgoIABCKBRCxAxBDMggIABCABBCxAzIICAAQgAQQsQMyCwgAEIAEELEDEIMBMggIABCABBCxAzIICAAQgAQQsQMyBQgAEIAEMgUIABCABDIICAAQgAQQsQMyCAgAEIAEELEDOg0IABCKBRCxAxCDARBDOgcIABCKBRBDOggIABCxAxCDAVC7C1jUEmChJWgAcAB4AIAB1wKIAZgEkgEFMy4zLTGYAQCgAQGqAQtnd3Mtd2l6LWltZ8ABAQ&sclient=img&ei=deXFZKG3LKrNnsEP4pWH0A4&bih=715&biw=1536&rlz=1C1UEAD_enIN928IN928\""
   ]
  },
  {
   "cell_type": "code",
   "execution_count": 47,
   "id": "02e307cc-4edf-4925-898e-db1226021431",
   "metadata": {},
   "outputs": [],
   "source": [
    "response = requests.get(f\"https://www.google.com/search?q={query}elon+musk&tbm=isch&ved=2ahUKEwjhxZ7EyrWAAxWqpicCHeLKAeoQ2-cCegQIABAA&oq=elo&gs_lcp=CgNpbWcQARgAMgoIABCKBRCxAxBDMggIABCABBCxAzIICAAQgAQQsQMyCwgAEIAEELEDEIMBMggIABCABBCxAzIICAAQgAQQsQMyBQgAEIAEMgUIABCABDIICAAQgAQQsQMyCAgAEIAEELEDOg0IABCKBRCxAxCDARBDOgcIABCKBRBDOggIABCxAxCDAVC7C1jUEmChJWgAcAB4AIAB1wKIAZgEkgEFMy4zLTGYAQCgAQGqAQtnd3Mtd2l6LWltZ8ABAQ&sclient=img&ei=deXFZKG3LKrNnsEP4pWH0A4&bih=715&biw=1536&rlz=1C1UEAD_enIN928IN928\")"
   ]
  },
  {
   "cell_type": "code",
   "execution_count": 48,
   "id": "2340747e-44fc-4115-bc25-7d3ca3e6dde9",
   "metadata": {},
   "outputs": [
    {
     "data": {
      "text/plain": [
       "<Response [200]>"
      ]
     },
     "execution_count": 48,
     "metadata": {},
     "output_type": "execute_result"
    }
   ],
   "source": [
    "response"
   ]
  },
  {
   "cell_type": "code",
   "execution_count": 49,
   "id": "a1b0e7ab-3315-4f86-b354-7f5a239fa35a",
   "metadata": {},
   "outputs": [],
   "source": [
    "soup = BeautifulSoup(response.content, \"html.parser\")"
   ]
  },
  {
   "cell_type": "code",
   "execution_count": 50,
   "id": "46205c45-7a5d-43cd-8a54-7896361afac7",
   "metadata": {},
   "outputs": [
    {
     "data": {
      "text/plain": [
       "<!DOCTYPE html PUBLIC \"-//WAPFORUM//DTD XHTML Mobile 1.0//EN\" \"http://www.wapforum.org/DTD/xhtml-mobile10.dtd\">\n",
       "<html lang=\"en-GB\" xmlns=\"http://www.w3.org/1999/xhtml\"><head><meta content=\"application/xhtml+xml; charset=utf-8\" http-equiv=\"Content-Type\"/><meta content=\"no-cache\" name=\"Cache-Control\"/><title>elon muskelon musk - Google Search</title><style>a{text-decoration:none;color:inherit}a:hover{text-decoration:underline}a img{border:0}body{font-family:arial,sans-serif;padding:8px;margin:0 auto;max-width:700px;min-width:240px;}.FbhRzb{border-left:thin solid #dadce0;border-right:thin solid #dadce0;border-top:thin solid #dadce0;height:40px;overflow:hidden}.n692Zd{margin-bottom:10px}.cvifge{height:40px;border-spacing:0}.QvGUP{height:40px;padding:0 8px 0 8px;vertical-align:top}.O4cRJf{height:40px;width:100%;padding:0;padding-right:16px}.O1ePr{height:40px;padding:0;vertical-align:top}.kgJEQe{height:36px;width:98px;vertical-align:top;margin-top:4px}.lXLRf{vertical-align:top}.MhzMZd{border:0;vertical-align:middle;font-size:14px;height:40px;padding:0;width:100%;padding-left:16px}.xB0fq{height:40px;border:none;font-size:14px;background-color:#1a73e8;color:#fff;padding:0 16px;margin:0;vertical-align:top;cursor:pointer}.xB0fq:focus{border:1px solid #1a73e8}.M7pB2{border:thin solid #dadce0;margin:0 0 3px 0;font-size:13px;font-weight:500;height:40px}.euZec{width:100%;height:40px;text-align:center;border-spacing:0}table.euZec td{padding:0;width:25%}.QIqI7{display:inline-block;padding-top:4px;font-weight:bold;color:#4285f4}.EY24We{border-bottom:2px solid #4285f4}.CsQyDc{display:inline-block;color:#70757a}.TuS8Ad{font-size:14px}.HddGcc{padding:8px;color:#70757a}.dzp8ae{font-weight:bold;color:#3c4043}.rEM8G{color:#70757a}.bookcf{table-layout:fixed;width:100%;border-spacing:0}.InWNIe{text-align:center}.uZgmoc{border:thin solid #dadce0;color:#70757a;font-size:14px;text-align:center;table-layout:fixed;width:100%}.frGj1b{display:block;padding:12px 0 12px 0;width:100%}.BnJWBc{text-align:center;padding:6px 0 13px 0;height:35px}.e3goi{vertical-align:top;padding:0;height:180px}.GpQGbf{margin:auto;border-collapse:collapse;border-spacing:0;width:100%}</style></head><body><style>.X6ZCif{color:#202124;font-size:11px;line-height:16px;display:inline-block;padding-top:2px;overflow:hidden;padding-bottom:4px;width:100%}.TwVfHd{border-radius:16px;border:thin solid #dadce0;display:inline-block;padding:8px 8px;margin-right:8px;margin-bottom:4px}.yekiAe{background-color:#dadce0}.mnTahd{width:100%}.ezO2md{border:thin solid #dadce0;padding:12px 16px 12px 16px;margin-bottom:10px;font-family:arial,sans-serif}.lIMUZd{font-family:arial,sans-serif}.IkMU6e{border-spacing:0}.SjCsie{width:100%}.EnarA{text-align:center}.NZWO1b{width:162px;height:140px;line-height:140px;overflow:'hidden';text-align:center}.yWs4tf{text-align:center;margin:auto;vertical-align:middle;max-width:162px;max-height:140px}.jB2rPd{padding-top:2px;padding-bottom:8px;}.fYyStc{word-break:break-word}.ynsChf{display:block;white-space:nowrap;overflow:hidden;text-overflow:ellipsis}.Fj3V3b{color:#1967d2;font-size:14px;line-height:20px}.FrIlee{color:#202124;font-size:11px;line-height:16px}.F9iS2e{color:#70757a;font-size:11px;line-height:16px}.WMQ2Le{color:#70757a;font-size:12px;line-height:16px}.x3G5ab{color:#202124;font-size:12px;line-height:16px}.fuLhoc{color:#1967d2;font-size:16px;line-height:20px}.epoveb{font-size:24px;line-height:28px;font-weight:400;color:#202124}.dXDvrc{color:#0d652d;font-size:14px;line-height:20px;word-wrap:break-word}.dloBPe{font-weight:bold}.YVIcad{color:#70757a}.JkVVdd{color:#ea4335}.oXZRFd{color:#ea4335}.MQHtg{color:#fbbc04}.pyMRrb{color:#1e8e3e}.EtTZid{color:#1e8e3e}.M3vVJe{color:#1967d2}.qXLe6d{display:block}.NHQNef{font-style:italic}.Cb8Z7c{white-space:pre}a.ZWRArf{text-decoration:none}a .CVA68e:hover{text-decoration:underline}</style><div class=\"n692Zd\"><div class=\"BnJWBc\"><a class=\"lXLRf\" href=\"/?bih=715&amp;biw=1536&amp;rlz=1C1UEAD_enIN928IN928&amp;output=images&amp;ie=UTF-8&amp;tbm=isch&amp;sa=X&amp;ved=0ahUKEwjAjf-907WAAxXDnFwKHSvqBvwQPAgC\"><img alt=\"Google\" class=\"kgJEQe\" src=\"/images/branding/searchlogo/1x/googlelogo_desk_heirloom_color_150x55dp.gif\"/></a></div><div class=\"FbhRzb\"><form action=\"/search\"><input name=\"bih\" type=\"hidden\" value=\"715\"/><input name=\"biw\" type=\"hidden\" value=\"1536\"/><input name=\"rlz\" type=\"hidden\" value=\"1C1UEAD_enIN928IN928\"/><input name=\"ie\" type=\"hidden\" value=\"ISO-8859-1\"/><input name=\"tbm\" type=\"hidden\" value=\"isch\"/><input name=\"oq\" type=\"hidden\"/><input name=\"aqs\" type=\"hidden\"/><table class=\"cvifge\"><tr><td class=\"O4cRJf\"><input class=\"MhzMZd\" name=\"q\" type=\"text\" value=\"elon muskelon musk\"/></td><td class=\"O1ePr\"><input class=\"xB0fq\" type=\"submit\" value=\"Search\"/></td></tr></table></form></div><div class=\"M7pB2\"><table class=\"euZec\"><tbody><tr><td><a class=\"CsQyDc\" href=\"/search?q=elon+muskelon+musk&amp;bih=715&amp;biw=1536&amp;rlz=1C1UEAD_enIN928IN928&amp;ie=UTF-8&amp;source=lnms&amp;sa=X&amp;ved=0ahUKEwjAjf-907WAAxXDnFwKHSvqBvwQ_AUIBCgA\">ALL</a></td><td><a class=\"CsQyDc\" href=\"/search?q=elon+muskelon+musk&amp;bih=715&amp;biw=1536&amp;rlz=1C1UEAD_enIN928IN928&amp;ie=UTF-8&amp;tbm=nws&amp;source=lnms&amp;sa=X&amp;ved=0ahUKEwjAjf-907WAAxXDnFwKHSvqBvwQ_AUIBSgB\">NEWS</a></td><td class=\"EY24We\"><span class=\"QIqI7\">IMAGES</span></td><td><a class=\"CsQyDc\" href=\"/search?q=elon+muskelon+musk&amp;bih=715&amp;biw=1536&amp;rlz=1C1UEAD_enIN928IN928&amp;ie=UTF-8&amp;tbm=vid&amp;source=lnms&amp;sa=X&amp;ved=0ahUKEwjAjf-907WAAxXDnFwKHSvqBvwQ_AUIBygD\">VIDEOS</a></td></tr></tbody></table></div></div><div class=\"X6ZCif\"><a class=\"TwVfHd\" href=\"/search?bih=715&amp;biw=1536&amp;rlz=1C1UEAD_enIN928IN928&amp;ie=UTF-8&amp;tbm=isch&amp;q=elon+muskelon+musk&amp;chips=q:elon+musk+elon+musk,g_1:age&amp;sa=X&amp;ved=0ahUKEwjAjf-907WAAxXDnFwKHSvqBvwQ4lYICygA\">age</a><a class=\"TwVfHd\" href=\"/search?bih=715&amp;biw=1536&amp;rlz=1C1UEAD_enIN928IN928&amp;ie=UTF-8&amp;tbm=isch&amp;q=elon+muskelon+musk&amp;chips=q:elon+musk+elon+musk,g_1:book&amp;sa=X&amp;ved=0ahUKEwjAjf-907WAAxXDnFwKHSvqBvwQ4lYIDCgB\">book</a><a class=\"TwVfHd\" href=\"/search?bih=715&amp;biw=1536&amp;rlz=1C1UEAD_enIN928IN928&amp;ie=UTF-8&amp;tbm=isch&amp;q=elon+muskelon+musk&amp;chips=q:elon+musk+elon+musk,online_chips:first+wife&amp;sa=X&amp;ved=0ahUKEwjAjf-907WAAxXDnFwKHSvqBvwQ4lYIDSgC\">first wife</a><a class=\"TwVfHd\" href=\"/search?bih=715&amp;biw=1536&amp;rlz=1C1UEAD_enIN928IN928&amp;ie=UTF-8&amp;tbm=isch&amp;q=elon+muskelon+musk&amp;chips=q:elon+musk+elon+musk,online_chips:tesla&amp;sa=X&amp;ved=0ahUKEwjAjf-907WAAxXDnFwKHSvqBvwQ4lYIDigD\">tesla</a><a class=\"TwVfHd\" href=\"/search?bih=715&amp;biw=1536&amp;rlz=1C1UEAD_enIN928IN928&amp;ie=UTF-8&amp;tbm=isch&amp;q=elon+muskelon+musk&amp;chips=q:elon+musk+elon+musk,online_chips:ex+wife&amp;sa=X&amp;ved=0ahUKEwjAjf-907WAAxXDnFwKHSvqBvwQ4lYIDygE\">ex wife</a><a class=\"TwVfHd\" href=\"/search?bih=715&amp;biw=1536&amp;rlz=1C1UEAD_enIN928IN928&amp;ie=UTF-8&amp;tbm=isch&amp;q=elon+muskelon+musk&amp;chips=q:elon+musk+elon+musk,online_chips:tesla+ceo&amp;sa=X&amp;ved=0ahUKEwjAjf-907WAAxXDnFwKHSvqBvwQ4lYIECgF\">tesla ceo</a><a class=\"TwVfHd\" href=\"/search?bih=715&amp;biw=1536&amp;rlz=1C1UEAD_enIN928IN928&amp;ie=UTF-8&amp;tbm=isch&amp;q=elon+muskelon+musk&amp;chips=q:elon+musk+elon+musk,online_chips:meme&amp;sa=X&amp;ved=0ahUKEwjAjf-907WAAxXDnFwKHSvqBvwQ4lYIESgG\">meme</a><a class=\"TwVfHd\" href=\"/search?bih=715&amp;biw=1536&amp;rlz=1C1UEAD_enIN928IN928&amp;ie=UTF-8&amp;tbm=isch&amp;q=elon+muskelon+musk&amp;chips=q:elon+musk+elon+musk,online_chips:gif&amp;sa=X&amp;ved=0ahUKEwjAjf-907WAAxXDnFwKHSvqBvwQ4lYIEigH\">gif</a><a class=\"TwVfHd\" href=\"/search?bih=715&amp;biw=1536&amp;rlz=1C1UEAD_enIN928IN928&amp;ie=UTF-8&amp;tbm=isch&amp;q=elon+muskelon+musk&amp;chips=q:elon+musk+elon+musk,online_chips:elonmusk&amp;sa=X&amp;ved=0ahUKEwjAjf-907WAAxXDnFwKHSvqBvwQ4lYIEygI\">elonmusk</a><a class=\"TwVfHd\" href=\"/search?bih=715&amp;biw=1536&amp;rlz=1C1UEAD_enIN928IN928&amp;ie=UTF-8&amp;tbm=isch&amp;q=elon+muskelon+musk&amp;chips=q:elon+musk+elon+musk,online_chips:maye+musk+biography&amp;sa=X&amp;ved=0ahUKEwjAjf-907WAAxXDnFwKHSvqBvwQ4lYIFCgJ\">maye musk biography</a></div><div><table class=\"GpQGbf\"><tr><td align=\"center\" class=\"e3goi\"><div class=\"mnTahd\"> <div> <div class=\"lIMUZd\"><div><table class=\"IkMU6e\"><tr><td><a href=\"/url?q=https://www.investopedia.com/articles/personal-finance/061015/how-elon-musk-became-elon-musk.asp&amp;sa=U&amp;ved=2ahUKEwjAjf-907WAAxXDnFwKHSvqBvwQqoUBegQIABAB&amp;usg=AOvVaw23Hffbaq4s4O84XbBHyrt-\"><div class=\"NZWO1b\"><img alt=\"\" class=\"yWs4tf\" src=\"https://encrypted-tbn0.gstatic.com/images?q=tbn:ANd9GcRxf-Jbkdb6IZIh7oNtWyJhYtw3Kg80gamyGyRHZS8klkCrAzThS_D2ymM47A&amp;s\"/></div></a></td></tr><tr><td><a href=\"/url?q=https://www.investopedia.com/articles/personal-finance/061015/how-elon-musk-became-elon-musk.asp&amp;sa=U&amp;ved=2ahUKEwjAjf-907WAAxXDnFwKHSvqBvwQr4kDegQIABAC&amp;usg=AOvVaw2BJkTZwyU-qw5AB1QzBYH9\"><div class=\"jB2rPd\"> <span class=\"qXLe6d x3G5ab\"> <span class=\"fYyStc\">Who Is Elon Musk?</span> </span> <span class=\"qXLe6d F9iS2e\"> <span class=\"fYyStc\">www.investopedia.com</span> </span> </div></a></td></tr></table></div></div> </div> </div></td><td align=\"center\" class=\"e3goi\"><div class=\"mnTahd\"> <div> <div class=\"lIMUZd\"><div><table class=\"IkMU6e\"><tr><td><a href=\"/url?q=https://www.biography.com/business-leaders/elon-musk&amp;sa=U&amp;ved=2ahUKEwjAjf-907WAAxXDnFwKHSvqBvwQqoUBegQIEhAB&amp;usg=AOvVaw3oYpi_gKNZgzElH7p5bBDa\"><div class=\"NZWO1b\"><img alt=\"\" class=\"yWs4tf\" src=\"https://encrypted-tbn0.gstatic.com/images?q=tbn:ANd9GcTvewo3-e7y-JsV16EL3q3EaMThVwCiuN7DD1_KTctFNodySZtMVcuOKk5uUQ&amp;s\"/></div></a></td></tr><tr><td><a href=\"/url?q=https://www.biography.com/business-leaders/elon-musk&amp;sa=U&amp;ved=2ahUKEwjAjf-907WAAxXDnFwKHSvqBvwQr4kDegQIEhAC&amp;usg=AOvVaw3BwZIXfMB50pO7WayRCK46\"><div class=\"jB2rPd\"> <span class=\"qXLe6d x3G5ab\"> <span class=\"fYyStc\">Elon Musk - Tesla, Age &amp;...</span> </span> <span class=\"qXLe6d F9iS2e\"> <span class=\"fYyStc\">www.biography.com</span> </span> </div></a></td></tr></table></div></div> </div> </div></td><td align=\"center\" class=\"e3goi\"><div class=\"mnTahd\"> <div> <div class=\"lIMUZd\"><div><table class=\"IkMU6e\"><tr><td><a href=\"/url?q=https://www.cnbc.com/2022/12/12/elon-musk-is-no-longer-the-richest-person-in-the-world.html&amp;sa=U&amp;ved=2ahUKEwjAjf-907WAAxXDnFwKHSvqBvwQqoUBegQIExAB&amp;usg=AOvVaw05SeHn0N3a4z5eRBpYX60T\"><div class=\"NZWO1b\"><img alt=\"\" class=\"yWs4tf\" src=\"https://encrypted-tbn0.gstatic.com/images?q=tbn:ANd9GcSftzxsGcyIyn_OB2mQFSjeln7vtLq2LVMK3Oa4k9uPaCQr2r_Pq54Vqo8uZw&amp;s\"/></div></a></td></tr><tr><td><a href=\"/url?q=https://www.cnbc.com/2022/12/12/elon-musk-is-no-longer-the-richest-person-in-the-world.html&amp;sa=U&amp;ved=2ahUKEwjAjf-907WAAxXDnFwKHSvqBvwQr4kDegQIExAC&amp;usg=AOvVaw1fR2jKYXC0T9BofnyEXd4I\"><div class=\"jB2rPd\"> <span class=\"qXLe6d x3G5ab\"> <span class=\"fYyStc\">Elon Musk is no longer the...</span> </span> <span class=\"qXLe6d F9iS2e\"> <span class=\"fYyStc\">www.cnbc.com</span> </span> </div></a></td></tr></table></div></div> </div> </div></td><td align=\"center\" class=\"e3goi\"><div class=\"mnTahd\"> <div> <div class=\"lIMUZd\"><div><table class=\"IkMU6e\"><tr><td><a href=\"/url?q=https://www.britannica.com/biography/Elon-Musk&amp;sa=U&amp;ved=2ahUKEwjAjf-907WAAxXDnFwKHSvqBvwQqoUBegQIERAB&amp;usg=AOvVaw0_pfCvWYDPgyvQJTrtxHfM\"><div class=\"NZWO1b\"><img alt=\"\" class=\"yWs4tf\" src=\"https://encrypted-tbn0.gstatic.com/images?q=tbn:ANd9GcQY_R5NSNoZkSlMo3hf86COGJ4fCv0s6Nx4k8uCGkWc6YGOn_m4-rIOQ3GhOhg&amp;s\"/></div></a></td></tr><tr><td><a href=\"/url?q=https://www.britannica.com/biography/Elon-Musk&amp;sa=U&amp;ved=2ahUKEwjAjf-907WAAxXDnFwKHSvqBvwQr4kDegQIERAC&amp;usg=AOvVaw360DGMS8koe91w_1sINMH0\"><div class=\"jB2rPd\"> <span class=\"qXLe6d x3G5ab\"> <span class=\"fYyStc\">Elon Musk | Biography,...</span> </span> <span class=\"qXLe6d F9iS2e\"> <span class=\"fYyStc\">www.britannica.com</span> </span> </div></a></td></tr></table></div></div> </div> </div></td></tr><tr><td align=\"center\" class=\"e3goi\"><div class=\"mnTahd\"> <div> <div class=\"lIMUZd\"><div><table class=\"IkMU6e\"><tr><td><a href=\"/url?q=https://www.britannica.com/biography/Elon-Musk&amp;sa=U&amp;ved=2ahUKEwjAjf-907WAAxXDnFwKHSvqBvwQqoUBegQIEBAB&amp;usg=AOvVaw1c5rePLS6n9gEyo79ssH0C\"><div class=\"NZWO1b\"><img alt=\"\" class=\"yWs4tf\" src=\"https://encrypted-tbn0.gstatic.com/images?q=tbn:ANd9GcS6mPr1g683xgMlTnJfswzPyIjixDUJCLKR_GUOYd43dGj0LB8Uum64r_cOjl4&amp;s\"/></div></a></td></tr><tr><td><a href=\"/url?q=https://www.britannica.com/biography/Elon-Musk&amp;sa=U&amp;ved=2ahUKEwjAjf-907WAAxXDnFwKHSvqBvwQr4kDegQIEBAC&amp;usg=AOvVaw0NiL35CumcYyPhAtv5zY1h\"><div class=\"jB2rPd\"> <span class=\"qXLe6d x3G5ab\"> <span class=\"fYyStc\">Elon Musk | Biography,...</span> </span> <span class=\"qXLe6d F9iS2e\"> <span class=\"fYyStc\">www.britannica.com</span> </span> </div></a></td></tr></table></div></div> </div> </div></td><td align=\"center\" class=\"e3goi\"><div class=\"mnTahd\"> <div> <div class=\"lIMUZd\"><div><table class=\"IkMU6e\"><tr><td><a href=\"/url?q=https://www.amazon.co.uk/Elon-Musk-Lessons-Business-Entrepreneurship/dp/1925989488&amp;sa=U&amp;ved=2ahUKEwjAjf-907WAAxXDnFwKHSvqBvwQqoUBegQIDxAB&amp;usg=AOvVaw0NUkHz8r7bqs3fTRMIGsvA\"><div class=\"NZWO1b\"><img alt=\"\" class=\"yWs4tf\" src=\"https://encrypted-tbn0.gstatic.com/images?q=tbn:ANd9GcScBsCKjiOArYadusf_DCujE1410CDUv9GdqAbnKU7TpAR2U8PTGCa60rfBuA&amp;s\"/></div></a></td></tr><tr><td><a href=\"/url?q=https://www.amazon.co.uk/Elon-Musk-Lessons-Business-Entrepreneurship/dp/1925989488&amp;sa=U&amp;ved=2ahUKEwjAjf-907WAAxXDnFwKHSvqBvwQr4kDegQIDxAC&amp;usg=AOvVaw0OkgCAt4Ev94Pjy-Sud2iR\"><div class=\"jB2rPd\"> <span class=\"qXLe6d x3G5ab\"> <span class=\"fYyStc\">Elon Musk: Elon Musk's Best...</span> </span> <span class=\"qXLe6d F9iS2e\"> <span class=\"fYyStc\">www.amazon.co.uk</span> </span> </div></a></td></tr></table></div></div> </div> </div></td><td align=\"center\" class=\"e3goi\"><div class=\"mnTahd\"> <div> <div class=\"lIMUZd\"><div><table class=\"IkMU6e\"><tr><td><a href=\"/url?q=https://news.sky.com/story/elon-musk-bans-twitter-accounts-that-impersonate-others-as-comedian-falls-victim-to-new-rule-12740644&amp;sa=U&amp;ved=2ahUKEwjAjf-907WAAxXDnFwKHSvqBvwQqoUBegQIChAB&amp;usg=AOvVaw1ZSyZDP9FOBs5cCWs7gU2T\"><div class=\"NZWO1b\"><img alt=\"\" class=\"yWs4tf\" src=\"https://encrypted-tbn0.gstatic.com/images?q=tbn:ANd9GcT3Lv9IKGDsBORN0qqA1v8a2lbDEvTnDo3UmHQgsBF4WmiD6NP8tanYUukAWB0&amp;s\"/></div></a></td></tr><tr><td><a href=\"/url?q=https://news.sky.com/story/elon-musk-bans-twitter-accounts-that-impersonate-others-as-comedian-falls-victim-to-new-rule-12740644&amp;sa=U&amp;ved=2ahUKEwjAjf-907WAAxXDnFwKHSvqBvwQr4kDegQIChAC&amp;usg=AOvVaw2EM2iiYUztxE3Tw6mPd2jF\"><div class=\"jB2rPd\"> <span class=\"qXLe6d x3G5ab\"> <span class=\"fYyStc\">Elon Musk bans Twitter...</span> </span> <span class=\"qXLe6d F9iS2e\"> <span class=\"fYyStc\">news.sky.com</span> </span> </div></a></td></tr></table></div></div> </div> </div></td><td align=\"center\" class=\"e3goi\"><div class=\"mnTahd\"> <div> <div class=\"lIMUZd\"><div><table class=\"IkMU6e\"><tr><td><a href=\"/url?q=https://www.xprize.org/about/people/elon-musk&amp;sa=U&amp;ved=2ahUKEwjAjf-907WAAxXDnFwKHSvqBvwQqoUBegQIDBAB&amp;usg=AOvVaw2cxQ6GbXfGPdqA6vmIlst-\"><div class=\"NZWO1b\"><img alt=\"\" class=\"yWs4tf\" src=\"https://encrypted-tbn0.gstatic.com/images?q=tbn:ANd9GcRvguZykGkj4AS5dKH35DZ7jadIxe-J9O92HDap_wkoaMFwKQcUIbhvrsvf2Q&amp;s\"/></div></a></td></tr><tr><td><a href=\"/url?q=https://www.xprize.org/about/people/elon-musk&amp;sa=U&amp;ved=2ahUKEwjAjf-907WAAxXDnFwKHSvqBvwQr4kDegQIDBAC&amp;usg=AOvVaw17qR0GjWXMllj-b2nMm32v\"><div class=\"jB2rPd\"> <span class=\"qXLe6d x3G5ab\"> <span class=\"fYyStc\">XPRIZE Foundation Bio -...</span> </span> <span class=\"qXLe6d F9iS2e\"> <span class=\"fYyStc\">www.xprize.org</span> </span> </div></a></td></tr></table></div></div> </div> </div></td></tr><tr><td align=\"center\" class=\"e3goi\"><div class=\"mnTahd\"> <div> <div class=\"lIMUZd\"><div><table class=\"IkMU6e\"><tr><td><a href=\"/url?q=https://thehill.com/blogs/in-the-know/3494166-maye-musk-on-elons-safety-i-really-do-worry-about-him/&amp;sa=U&amp;ved=2ahUKEwjAjf-907WAAxXDnFwKHSvqBvwQqoUBegQICRAB&amp;usg=AOvVaw1Gvrns1Aqz4TYPRWfNT0q5\"><div class=\"NZWO1b\"><img alt=\"\" class=\"yWs4tf\" src=\"https://encrypted-tbn0.gstatic.com/images?q=tbn:ANd9GcSJT1m10wftEHnCRVvRtPpYB6f7qxwyMDrfFpJtq8cupdPR4-AdWwh2smoHlw&amp;s\"/></div></a></td></tr><tr><td><a href=\"/url?q=https://thehill.com/blogs/in-the-know/3494166-maye-musk-on-elons-safety-i-really-do-worry-about-him/&amp;sa=U&amp;ved=2ahUKEwjAjf-907WAAxXDnFwKHSvqBvwQr4kDegQICRAC&amp;usg=AOvVaw3grAj9RbtITBci1HQnOm4L\"><div class=\"jB2rPd\"> <span class=\"qXLe6d x3G5ab\"> <span class=\"fYyStc\">Maye Musk on Elon Musk's...</span> </span> <span class=\"qXLe6d F9iS2e\"> <span class=\"fYyStc\">thehill.com</span> </span> </div></a></td></tr></table></div></div> </div> </div></td><td align=\"center\" class=\"e3goi\"><div class=\"mnTahd\"> <div> <div class=\"lIMUZd\"><div><table class=\"IkMU6e\"><tr><td><a href=\"/url?q=https://commons.wikimedia.org/wiki/File:Elon_Musk_Royal_Society_(crop2).jpg&amp;sa=U&amp;ved=2ahUKEwjAjf-907WAAxXDnFwKHSvqBvwQqoUBegQICxAB&amp;usg=AOvVaw1ptziKRkXDz1o5c82Z_8-T\"><div class=\"NZWO1b\"><img alt=\"\" class=\"yWs4tf\" src=\"https://encrypted-tbn0.gstatic.com/images?q=tbn:ANd9GcQEoGcTehPfBt44vuvC8wyJieRSiGKWqDO2UHbGG34cRttKR5nGr_NDLJHg_1s&amp;s\"/></div></a></td></tr><tr><td><a href=\"/url?q=https://commons.wikimedia.org/wiki/File:Elon_Musk_Royal_Society_(crop2).jpg&amp;sa=U&amp;ved=2ahUKEwjAjf-907WAAxXDnFwKHSvqBvwQr4kDegQICxAC&amp;usg=AOvVaw22Vf5nFxg6ugbZJDzPzWnO\"><div class=\"jB2rPd\"> <span class=\"qXLe6d x3G5ab\"> <span class=\"fYyStc\">File:Elon Musk Royal...</span> </span> <span class=\"qXLe6d F9iS2e\"> <span class=\"fYyStc\">commons.wikimedia.org</span> </span> </div></a></td></tr></table></div></div> </div> </div></td><td align=\"center\" class=\"e3goi\"><div class=\"mnTahd\"> <div> <div class=\"lIMUZd\"><div><table class=\"IkMU6e\"><tr><td><a href=\"/url?q=https://www.globalny.biz/person/id/225&amp;sa=U&amp;ved=2ahUKEwjAjf-907WAAxXDnFwKHSvqBvwQqoUBegQIDRAB&amp;usg=AOvVaw2K2_dvH1jByWGrDztPn15B\"><div class=\"NZWO1b\"><img alt=\"\" class=\"yWs4tf\" src=\"https://encrypted-tbn0.gstatic.com/images?q=tbn:ANd9GcTQUsPf_AptMxPxhHgy7_K6gr9QnvDsneyJ_c2tIS2Ukq7aOsMl9oEffSC2GIw&amp;s\"/></div></a></td></tr><tr><td><a href=\"/url?q=https://www.globalny.biz/person/id/225&amp;sa=U&amp;ved=2ahUKEwjAjf-907WAAxXDnFwKHSvqBvwQr4kDegQIDRAC&amp;usg=AOvVaw1n8QRA4oFG8tvhdbSBR-Xs\"><div class=\"jB2rPd\"> <span class=\"qXLe6d x3G5ab\"> <span class=\"fYyStc\">MUSK Elon Reeve -...</span> </span> <span class=\"qXLe6d F9iS2e\"> <span class=\"fYyStc\">www.globalny.biz</span> </span> </div></a></td></tr></table></div></div> </div> </div></td><td align=\"center\" class=\"e3goi\"><div class=\"mnTahd\"> <div> <div class=\"lIMUZd\"><div><table class=\"IkMU6e\"><tr><td><a href=\"/url?q=https://www.amazon.co.uk/Elon-Musk-Creativity-Leadership-Autobiography/dp/153474732X&amp;sa=U&amp;ved=2ahUKEwjAjf-907WAAxXDnFwKHSvqBvwQqoUBegQIDhAB&amp;usg=AOvVaw0tUqU6T8J22R2fQ9Fl8Cef\"><div class=\"NZWO1b\"><img alt=\"\" class=\"yWs4tf\" src=\"https://encrypted-tbn0.gstatic.com/images?q=tbn:ANd9GcRupwJszfaV870yJEUAfyPRoqAlI2rjTuRb6uotBtGDrPphfMXw_JVFo0tcEk8&amp;s\"/></div></a></td></tr><tr><td><a href=\"/url?q=https://www.amazon.co.uk/Elon-Musk-Creativity-Leadership-Autobiography/dp/153474732X&amp;sa=U&amp;ved=2ahUKEwjAjf-907WAAxXDnFwKHSvqBvwQr4kDegQIDhAC&amp;usg=AOvVaw0dE2SO5QyMA2hPwEwOaDkf\"><div class=\"jB2rPd\"> <span class=\"qXLe6d x3G5ab\"> <span class=\"fYyStc\">Elon Musk: Elon Musk:...</span> </span> <span class=\"qXLe6d F9iS2e\"> <span class=\"fYyStc\">www.amazon.co.uk</span> </span> </div></a></td></tr></table></div></div> </div> </div></td></tr><tr><td align=\"center\" class=\"e3goi\"><div class=\"mnTahd\"> <div> <div class=\"lIMUZd\"><div><table class=\"IkMU6e\"><tr><td><a href=\"/url?q=https://economictimes.indiatimes.com/tech/technology/musk-tears-up-buyout-playbook-with-46-5-billion-twitter-financing/articleshow/91000437.cms&amp;sa=U&amp;ved=2ahUKEwjAjf-907WAAxXDnFwKHSvqBvwQqoUBegQIAxAB&amp;usg=AOvVaw2HcRA_1DOdq2OOW1Yt8WYk\"><div class=\"NZWO1b\"><img alt=\"\" class=\"yWs4tf\" src=\"https://encrypted-tbn0.gstatic.com/images?q=tbn:ANd9GcQ43Kc2pyjIFDmBz3mYYp0PSImF3YF9HLetMTFJpOWKDO-7ZrXSNW_ZFl9NXH8&amp;s\"/></div></a></td></tr><tr><td><a href=\"/url?q=https://economictimes.indiatimes.com/tech/technology/musk-tears-up-buyout-playbook-with-46-5-billion-twitter-financing/articleshow/91000437.cms&amp;sa=U&amp;ved=2ahUKEwjAjf-907WAAxXDnFwKHSvqBvwQr4kDegQIAxAC&amp;usg=AOvVaw1OChfxmznG8HKChGABD5Vc\"><div class=\"jB2rPd\"> <span class=\"qXLe6d x3G5ab\"> <span class=\"fYyStc\">elon musk: Elon Musk tears...</span> </span> <span class=\"qXLe6d F9iS2e\"> <span class=\"fYyStc\">economictimes.indiatimes.co...</span> </span> </div></a></td></tr></table></div></div> </div> </div></td><td align=\"center\" class=\"e3goi\"><div class=\"mnTahd\"> <div> <div class=\"lIMUZd\"><div><table class=\"IkMU6e\"><tr><td><a href=\"/url?q=https://www.cnn.com/2023/06/21/tech/tesla-india-china-elon-musk-intl-hnk/index.html&amp;sa=U&amp;ved=2ahUKEwjAjf-907WAAxXDnFwKHSvqBvwQqoUBegQICBAB&amp;usg=AOvVaw1WG3XSptVS-KO0L-85y44B\"><div class=\"NZWO1b\"><img alt=\"\" class=\"yWs4tf\" src=\"https://encrypted-tbn0.gstatic.com/images?q=tbn:ANd9GcTfS657Si9AL0_q3syl14D-NePVHM9xUKxQA-_8I_rjmm1MbQWXRq18dWF6zw&amp;s\"/></div></a></td></tr><tr><td><a href=\"/url?q=https://www.cnn.com/2023/06/21/tech/tesla-india-china-elon-musk-intl-hnk/index.html&amp;sa=U&amp;ved=2ahUKEwjAjf-907WAAxXDnFwKHSvqBvwQr4kDegQICBAC&amp;usg=AOvVaw08127OK6lysvy-PxBWxB44\"><div class=\"jB2rPd\"> <span class=\"qXLe6d x3G5ab\"> <span class=\"fYyStc\">Elon Musk meets Narendra...</span> </span> <span class=\"qXLe6d F9iS2e\"> <span class=\"fYyStc\">www.cnn.com</span> </span> </div></a></td></tr></table></div></div> </div> </div></td><td align=\"center\" class=\"e3goi\"><div class=\"mnTahd\"> <div> <div class=\"lIMUZd\"><div><table class=\"IkMU6e\"><tr><td><a href=\"/url?q=https://www.hindustantimes.com/world-news/elon-musk-news-elon-musk-son-who-was-with-elon-musk-on-day-1-in-twitter-office-his-running-2-year-old-son-101669361742920.html&amp;sa=U&amp;ved=2ahUKEwjAjf-907WAAxXDnFwKHSvqBvwQqoUBegQIARAB&amp;usg=AOvVaw2y2DyVP5z0YDCt8BL82Ehh\"><div class=\"NZWO1b\"><img alt=\"\" class=\"yWs4tf\" src=\"https://encrypted-tbn0.gstatic.com/images?q=tbn:ANd9GcSt0a8I31qFPl-3rz_IjWpG2MT62sMF2p0X9SwW7VEoVHer-YtZSJBrazocE0I&amp;s\"/></div></a></td></tr><tr><td><a href=\"/url?q=https://www.hindustantimes.com/world-news/elon-musk-news-elon-musk-son-who-was-with-elon-musk-on-day-1-in-twitter-office-his-running-2-year-old-son-101669361742920.html&amp;sa=U&amp;ved=2ahUKEwjAjf-907WAAxXDnFwKHSvqBvwQr4kDegQIARAC&amp;usg=AOvVaw3wLoLeGEnC6bW7XxhjiyZW\"><div class=\"jB2rPd\"> <span class=\"qXLe6d x3G5ab\"> <span class=\"fYyStc\">Who was with Elon Musk on...</span> </span> <span class=\"qXLe6d F9iS2e\"> <span class=\"fYyStc\">www.hindustantimes.com</span> </span> </div></a></td></tr></table></div></div> </div> </div></td><td align=\"center\" class=\"e3goi\"><div class=\"mnTahd\"> <div> <div class=\"lIMUZd\"><div><table class=\"IkMU6e\"><tr><td><a href=\"/url?q=https://www.vanityfair.com/news/2022/04/elon-musk-is-about-to-learn-that-space-travel-is-easier-than-twitter&amp;sa=U&amp;ved=2ahUKEwjAjf-907WAAxXDnFwKHSvqBvwQqoUBegQIBhAB&amp;usg=AOvVaw2bg7FDUNEvACgVzfLlk7q9\"><div class=\"NZWO1b\"><img alt=\"\" class=\"yWs4tf\" src=\"https://encrypted-tbn0.gstatic.com/images?q=tbn:ANd9GcTntuHPKq1GGDaijZKFVyIj2AWGwN3cyP8ncmMoVm3aWX2K0D2_BS8YLzZAkxg&amp;s\"/></div></a></td></tr><tr><td><a href=\"/url?q=https://www.vanityfair.com/news/2022/04/elon-musk-is-about-to-learn-that-space-travel-is-easier-than-twitter&amp;sa=U&amp;ved=2ahUKEwjAjf-907WAAxXDnFwKHSvqBvwQr4kDegQIBhAC&amp;usg=AOvVaw1hw9ryVwBa9slwY05-QAtc\"><div class=\"jB2rPd\"> <span class=\"qXLe6d x3G5ab\"> <span class=\"fYyStc\">Twitter Insiders: Elon Musk...</span> </span> <span class=\"qXLe6d F9iS2e\"> <span class=\"fYyStc\">www.vanityfair.com</span> </span> </div></a></td></tr></table></div></div> </div> </div></td></tr><tr><td align=\"center\" class=\"e3goi\"><div class=\"mnTahd\"> <div> <div class=\"lIMUZd\"><div><table class=\"IkMU6e\"><tr><td><a href=\"/url?q=https://www.wdhn.com/news/science-technology/tech-billionaires-cage-match-musk-throws-down-the-gauntlet-and-zuckerberg-accepts-challenge/&amp;sa=U&amp;ved=2ahUKEwjAjf-907WAAxXDnFwKHSvqBvwQqoUBegQIBBAB&amp;usg=AOvVaw0duwfNauCJA9MaSadDnjma\"><div class=\"NZWO1b\"><img alt=\"\" class=\"yWs4tf\" src=\"https://encrypted-tbn0.gstatic.com/images?q=tbn:ANd9GcSY0Lq2_BcBEvQNCjmHjyVhjq2CJCZKHThaNSft_kuLPNXHpCLUZvQsEp3qlA&amp;s\"/></div></a></td></tr><tr><td><a href=\"/url?q=https://www.wdhn.com/news/science-technology/tech-billionaires-cage-match-musk-throws-down-the-gauntlet-and-zuckerberg-accepts-challenge/&amp;sa=U&amp;ved=2ahUKEwjAjf-907WAAxXDnFwKHSvqBvwQr4kDegQIBBAC&amp;usg=AOvVaw2fRkFK2IEHLvLCigLCLrI4\"><div class=\"jB2rPd\"> <span class=\"qXLe6d x3G5ab\"> <span class=\"fYyStc\">Tech billionaires' cage...</span> </span> <span class=\"qXLe6d F9iS2e\"> <span class=\"fYyStc\">www.wdhn.com</span> </span> </div></a></td></tr></table></div></div> </div> </div></td><td align=\"center\" class=\"e3goi\"><div class=\"mnTahd\"> <div> <div class=\"lIMUZd\"><div><table class=\"IkMU6e\"><tr><td><a href=\"/url?q=https://diamu.com.bd/product/elon-musk-paperback/&amp;sa=U&amp;ved=2ahUKEwjAjf-907WAAxXDnFwKHSvqBvwQqoUBegQIBRAB&amp;usg=AOvVaw3Tzuhkgv9XtveQuKfSmY1u\"><div class=\"NZWO1b\"><img alt=\"\" class=\"yWs4tf\" src=\"https://encrypted-tbn0.gstatic.com/images?q=tbn:ANd9GcRxMYSDUFfmgEFtsOu7-0zlX8Ono-2_6HC0tO8FUQsKWYXae76Z5-99xS-4BGQ&amp;s\"/></div></a></td></tr><tr><td><a href=\"/url?q=https://diamu.com.bd/product/elon-musk-paperback/&amp;sa=U&amp;ved=2ahUKEwjAjf-907WAAxXDnFwKHSvqBvwQr4kDegQIBRAC&amp;usg=AOvVaw0WOzjH9StHPQCuQOgiu-rr\"><div class=\"jB2rPd\"> <span class=\"qXLe6d x3G5ab\"> <span class=\"fYyStc\">Elon Musk (Paperback) Best...</span> </span> <span class=\"qXLe6d F9iS2e\"> <span class=\"fYyStc\">diamu.com.bd</span> </span> </div></a></td></tr></table></div></div> </div> </div></td><td align=\"center\" class=\"e3goi\"><div class=\"mnTahd\"> <div> <div class=\"lIMUZd\"><div><table class=\"IkMU6e\"><tr><td><a href=\"/url?q=https://www.nicepng.com/ourpic/u2w7w7r5t4r5y3e6_elon-musk-elon-musk-a-biography-of-business/&amp;sa=U&amp;ved=2ahUKEwjAjf-907WAAxXDnFwKHSvqBvwQqoUBegQIAhAB&amp;usg=AOvVaw06j2eO8pPoloo_KUksZqkE\"><div class=\"NZWO1b\"><img alt=\"\" class=\"yWs4tf\" src=\"https://encrypted-tbn0.gstatic.com/images?q=tbn:ANd9GcRVPrNpCigshcn8PYrfFqIM2rGvT5jnSM18K9eiHfsiFNzTBDWkZ699iQ8kqik&amp;s\"/></div></a></td></tr><tr><td><a href=\"/url?q=https://www.nicepng.com/ourpic/u2w7w7r5t4r5y3e6_elon-musk-elon-musk-a-biography-of-business/&amp;sa=U&amp;ved=2ahUKEwjAjf-907WAAxXDnFwKHSvqBvwQr4kDegQIAhAC&amp;usg=AOvVaw23wzWCLJqYye-8pdKANhfL\"><div class=\"jB2rPd\"> <span class=\"qXLe6d x3G5ab\"> <span class=\"fYyStc\">Elon Musk - Elon Musk: A...</span> </span> <span class=\"qXLe6d F9iS2e\"> <span class=\"fYyStc\">www.nicepng.com</span> </span> </div></a></td></tr></table></div></div> </div> </div></td><td align=\"center\" class=\"e3goi\"><div class=\"mnTahd\"> <div> <div class=\"lIMUZd\"><div><table class=\"IkMU6e\"><tr><td><a href=\"/url?q=https://www.npr.org/2022/06/01/1102513281/elon-musk-tesla-return-to-work&amp;sa=U&amp;ved=2ahUKEwjAjf-907WAAxXDnFwKHSvqBvwQqoUBegQIBxAB&amp;usg=AOvVaw1rNbyOBXb6NUX-504qJu9p\"><div class=\"NZWO1b\"><img alt=\"\" class=\"yWs4tf\" src=\"https://encrypted-tbn0.gstatic.com/images?q=tbn:ANd9GcQPO-rPLwFAGZeR_zN-IVqOxA1eOMUBH4gxuEgZm9WpoSutHACrZogQgT1Yhg&amp;s\"/></div></a></td></tr><tr><td><a href=\"/url?q=https://www.npr.org/2022/06/01/1102513281/elon-musk-tesla-return-to-work&amp;sa=U&amp;ved=2ahUKEwjAjf-907WAAxXDnFwKHSvqBvwQr4kDegQIBxAC&amp;usg=AOvVaw3g3Ij6vPfXiB5734Zq9eHU\"><div class=\"jB2rPd\"> <span class=\"qXLe6d x3G5ab\"> <span class=\"fYyStc\">Elon Musk tells employees...</span> </span> <span class=\"qXLe6d F9iS2e\"> <span class=\"fYyStc\">www.npr.org</span> </span> </div></a></td></tr></table></div></div> </div> </div></td></tr></table></div><table class=\"uZgmoc\"><tbody><td><a class=\"frGj1b\" href=\"/search?q=elon+muskelon+musk&amp;bih=715&amp;biw=1536&amp;rlz=1C1UEAD_enIN928IN928&amp;ie=UTF-8&amp;tbm=isch&amp;ei=2O7FZMDBIcO58gKr1JvgDw&amp;start=20&amp;sa=N\">Next &gt;</a></td></tbody></table><br/><div class=\"TuS8Ad\" data-ved=\"0ahUKEwjAjf-907WAAxXDnFwKHSvqBvwQpyoIUg\"><style>.VYM29{font-weight:bold}</style><div align=\"center\" class=\"HddGcc\"><span class=\"VYM29\">CV5, Coventry</span><span> - </span><span>From your IP address</span><span> - </span><a href=\"/url?q=https://support.google.com/websearch%3Fp%3Dws_settings_location%26hl%3Den-GB&amp;sa=U&amp;ved=0ahUKEwjAjf-907WAAxXDnFwKHSvqBvwQty4IUw&amp;usg=AOvVaw19BcRa0909BV2ZcvsTbtFm\">Learn more</a></div><div align=\"center\"><a class=\"rEM8G\" href=\"/url?q=https://accounts.google.com/ServiceLogin%3Fcontinue%3Dhttps://www.google.com/search%253Fq%253Delon%252Bmuskelon%252Bmusk%2526tbm%253Disch%2526ved%253D2ahUKEwjhxZ7EyrWAAxWqpicCHeLKAeoQ2-cCegQIABAA%2526oq%253Delo%2526gs_lcp%253DCgNpbWcQARgAMgoIABCKBRCxAxBDMggIABCABBCxAzIICAAQgAQQsQMyCwgAEIAEELEDEIMBMggIABCABBCxAzIICAAQgAQQsQMyBQgAEIAEMgUIABCABDIICAAQgAQQsQMyCAgAEIAEELEDOg0IABCKBRCxAxCDARBDOgcIABCKBRBDOggIABCxAxCDAVC7C1jUEmChJWgAcAB4AIAB1wKIAZgEkgEFMy4zLTGYAQCgAQGqAQtnd3Mtd2l6LWltZ8ABAQ%2526sclient%253Dimg%2526ei%253DdeXFZKG3LKrNnsEP4pWH0A4%2526bih%253D715%2526biw%253D1536%2526rlz%253D1C1UEAD_enIN928IN928%26hl%3Den&amp;sa=U&amp;ved=0ahUKEwjAjf-907WAAxXDnFwKHSvqBvwQxs8CCFQ&amp;usg=AOvVaw1lLcHHCYaxd39SBy1kIV2c\">Sign in</a></div><div><table class=\"bookcf\"><tbody class=\"InWNIe\"><tr><td><a class=\"rEM8G\" href=\"https://www.google.com/preferences?hl=en&amp;sa=X&amp;ved=0ahUKEwjAjf-907WAAxXDnFwKHSvqBvwQv5YECFU\">Settings</a></td><td><a class=\"rEM8G\" href=\"https://www.google.com/intl/en_uk/policies/privacy/\">Privacy</a></td><td><a class=\"rEM8G\" href=\"https://www.google.com/intl/en_uk/policies/terms/\">Terms</a></td></tr></tbody></table></div></div><div> </div></body></html>"
      ]
     },
     "execution_count": 50,
     "metadata": {},
     "output_type": "execute_result"
    }
   ],
   "source": [
    "soup"
   ]
  },
  {
   "cell_type": "code",
   "execution_count": 51,
   "id": "617c89c6-2eca-423d-935f-0b411570ee40",
   "metadata": {},
   "outputs": [],
   "source": [
    "image_tags = soup.find_all(\"img\")"
   ]
  },
  {
   "cell_type": "code",
   "execution_count": 52,
   "id": "8a382a4e-386e-46eb-85d0-ec0d68eff1b7",
   "metadata": {},
   "outputs": [
    {
     "data": {
      "text/plain": [
       "[<img alt=\"Google\" class=\"kgJEQe\" src=\"/images/branding/searchlogo/1x/googlelogo_desk_heirloom_color_150x55dp.gif\"/>,\n",
       " <img alt=\"\" class=\"yWs4tf\" src=\"https://encrypted-tbn0.gstatic.com/images?q=tbn:ANd9GcRxf-Jbkdb6IZIh7oNtWyJhYtw3Kg80gamyGyRHZS8klkCrAzThS_D2ymM47A&amp;s\"/>,\n",
       " <img alt=\"\" class=\"yWs4tf\" src=\"https://encrypted-tbn0.gstatic.com/images?q=tbn:ANd9GcTvewo3-e7y-JsV16EL3q3EaMThVwCiuN7DD1_KTctFNodySZtMVcuOKk5uUQ&amp;s\"/>,\n",
       " <img alt=\"\" class=\"yWs4tf\" src=\"https://encrypted-tbn0.gstatic.com/images?q=tbn:ANd9GcSftzxsGcyIyn_OB2mQFSjeln7vtLq2LVMK3Oa4k9uPaCQr2r_Pq54Vqo8uZw&amp;s\"/>,\n",
       " <img alt=\"\" class=\"yWs4tf\" src=\"https://encrypted-tbn0.gstatic.com/images?q=tbn:ANd9GcQY_R5NSNoZkSlMo3hf86COGJ4fCv0s6Nx4k8uCGkWc6YGOn_m4-rIOQ3GhOhg&amp;s\"/>,\n",
       " <img alt=\"\" class=\"yWs4tf\" src=\"https://encrypted-tbn0.gstatic.com/images?q=tbn:ANd9GcS6mPr1g683xgMlTnJfswzPyIjixDUJCLKR_GUOYd43dGj0LB8Uum64r_cOjl4&amp;s\"/>,\n",
       " <img alt=\"\" class=\"yWs4tf\" src=\"https://encrypted-tbn0.gstatic.com/images?q=tbn:ANd9GcScBsCKjiOArYadusf_DCujE1410CDUv9GdqAbnKU7TpAR2U8PTGCa60rfBuA&amp;s\"/>,\n",
       " <img alt=\"\" class=\"yWs4tf\" src=\"https://encrypted-tbn0.gstatic.com/images?q=tbn:ANd9GcT3Lv9IKGDsBORN0qqA1v8a2lbDEvTnDo3UmHQgsBF4WmiD6NP8tanYUukAWB0&amp;s\"/>,\n",
       " <img alt=\"\" class=\"yWs4tf\" src=\"https://encrypted-tbn0.gstatic.com/images?q=tbn:ANd9GcRvguZykGkj4AS5dKH35DZ7jadIxe-J9O92HDap_wkoaMFwKQcUIbhvrsvf2Q&amp;s\"/>,\n",
       " <img alt=\"\" class=\"yWs4tf\" src=\"https://encrypted-tbn0.gstatic.com/images?q=tbn:ANd9GcSJT1m10wftEHnCRVvRtPpYB6f7qxwyMDrfFpJtq8cupdPR4-AdWwh2smoHlw&amp;s\"/>,\n",
       " <img alt=\"\" class=\"yWs4tf\" src=\"https://encrypted-tbn0.gstatic.com/images?q=tbn:ANd9GcQEoGcTehPfBt44vuvC8wyJieRSiGKWqDO2UHbGG34cRttKR5nGr_NDLJHg_1s&amp;s\"/>,\n",
       " <img alt=\"\" class=\"yWs4tf\" src=\"https://encrypted-tbn0.gstatic.com/images?q=tbn:ANd9GcTQUsPf_AptMxPxhHgy7_K6gr9QnvDsneyJ_c2tIS2Ukq7aOsMl9oEffSC2GIw&amp;s\"/>,\n",
       " <img alt=\"\" class=\"yWs4tf\" src=\"https://encrypted-tbn0.gstatic.com/images?q=tbn:ANd9GcRupwJszfaV870yJEUAfyPRoqAlI2rjTuRb6uotBtGDrPphfMXw_JVFo0tcEk8&amp;s\"/>,\n",
       " <img alt=\"\" class=\"yWs4tf\" src=\"https://encrypted-tbn0.gstatic.com/images?q=tbn:ANd9GcQ43Kc2pyjIFDmBz3mYYp0PSImF3YF9HLetMTFJpOWKDO-7ZrXSNW_ZFl9NXH8&amp;s\"/>,\n",
       " <img alt=\"\" class=\"yWs4tf\" src=\"https://encrypted-tbn0.gstatic.com/images?q=tbn:ANd9GcTfS657Si9AL0_q3syl14D-NePVHM9xUKxQA-_8I_rjmm1MbQWXRq18dWF6zw&amp;s\"/>,\n",
       " <img alt=\"\" class=\"yWs4tf\" src=\"https://encrypted-tbn0.gstatic.com/images?q=tbn:ANd9GcSt0a8I31qFPl-3rz_IjWpG2MT62sMF2p0X9SwW7VEoVHer-YtZSJBrazocE0I&amp;s\"/>,\n",
       " <img alt=\"\" class=\"yWs4tf\" src=\"https://encrypted-tbn0.gstatic.com/images?q=tbn:ANd9GcTntuHPKq1GGDaijZKFVyIj2AWGwN3cyP8ncmMoVm3aWX2K0D2_BS8YLzZAkxg&amp;s\"/>,\n",
       " <img alt=\"\" class=\"yWs4tf\" src=\"https://encrypted-tbn0.gstatic.com/images?q=tbn:ANd9GcSY0Lq2_BcBEvQNCjmHjyVhjq2CJCZKHThaNSft_kuLPNXHpCLUZvQsEp3qlA&amp;s\"/>,\n",
       " <img alt=\"\" class=\"yWs4tf\" src=\"https://encrypted-tbn0.gstatic.com/images?q=tbn:ANd9GcRxMYSDUFfmgEFtsOu7-0zlX8Ono-2_6HC0tO8FUQsKWYXae76Z5-99xS-4BGQ&amp;s\"/>,\n",
       " <img alt=\"\" class=\"yWs4tf\" src=\"https://encrypted-tbn0.gstatic.com/images?q=tbn:ANd9GcRVPrNpCigshcn8PYrfFqIM2rGvT5jnSM18K9eiHfsiFNzTBDWkZ699iQ8kqik&amp;s\"/>,\n",
       " <img alt=\"\" class=\"yWs4tf\" src=\"https://encrypted-tbn0.gstatic.com/images?q=tbn:ANd9GcQPO-rPLwFAGZeR_zN-IVqOxA1eOMUBH4gxuEgZm9WpoSutHACrZogQgT1Yhg&amp;s\"/>]"
      ]
     },
     "execution_count": 52,
     "metadata": {},
     "output_type": "execute_result"
    }
   ],
   "source": [
    "image_tags"
   ]
  },
  {
   "cell_type": "code",
   "execution_count": 53,
   "id": "95d114b3-4d92-4a4d-90e2-98e18c8e9ac0",
   "metadata": {},
   "outputs": [],
   "source": [
    "del image_tags[0]"
   ]
  },
  {
   "cell_type": "code",
   "execution_count": 54,
   "id": "506f5cc9-7c65-46af-ad49-602718933d38",
   "metadata": {},
   "outputs": [
    {
     "data": {
      "text/plain": [
       "[<img alt=\"\" class=\"yWs4tf\" src=\"https://encrypted-tbn0.gstatic.com/images?q=tbn:ANd9GcRxf-Jbkdb6IZIh7oNtWyJhYtw3Kg80gamyGyRHZS8klkCrAzThS_D2ymM47A&amp;s\"/>,\n",
       " <img alt=\"\" class=\"yWs4tf\" src=\"https://encrypted-tbn0.gstatic.com/images?q=tbn:ANd9GcTvewo3-e7y-JsV16EL3q3EaMThVwCiuN7DD1_KTctFNodySZtMVcuOKk5uUQ&amp;s\"/>,\n",
       " <img alt=\"\" class=\"yWs4tf\" src=\"https://encrypted-tbn0.gstatic.com/images?q=tbn:ANd9GcSftzxsGcyIyn_OB2mQFSjeln7vtLq2LVMK3Oa4k9uPaCQr2r_Pq54Vqo8uZw&amp;s\"/>,\n",
       " <img alt=\"\" class=\"yWs4tf\" src=\"https://encrypted-tbn0.gstatic.com/images?q=tbn:ANd9GcQY_R5NSNoZkSlMo3hf86COGJ4fCv0s6Nx4k8uCGkWc6YGOn_m4-rIOQ3GhOhg&amp;s\"/>,\n",
       " <img alt=\"\" class=\"yWs4tf\" src=\"https://encrypted-tbn0.gstatic.com/images?q=tbn:ANd9GcS6mPr1g683xgMlTnJfswzPyIjixDUJCLKR_GUOYd43dGj0LB8Uum64r_cOjl4&amp;s\"/>,\n",
       " <img alt=\"\" class=\"yWs4tf\" src=\"https://encrypted-tbn0.gstatic.com/images?q=tbn:ANd9GcScBsCKjiOArYadusf_DCujE1410CDUv9GdqAbnKU7TpAR2U8PTGCa60rfBuA&amp;s\"/>,\n",
       " <img alt=\"\" class=\"yWs4tf\" src=\"https://encrypted-tbn0.gstatic.com/images?q=tbn:ANd9GcT3Lv9IKGDsBORN0qqA1v8a2lbDEvTnDo3UmHQgsBF4WmiD6NP8tanYUukAWB0&amp;s\"/>,\n",
       " <img alt=\"\" class=\"yWs4tf\" src=\"https://encrypted-tbn0.gstatic.com/images?q=tbn:ANd9GcRvguZykGkj4AS5dKH35DZ7jadIxe-J9O92HDap_wkoaMFwKQcUIbhvrsvf2Q&amp;s\"/>,\n",
       " <img alt=\"\" class=\"yWs4tf\" src=\"https://encrypted-tbn0.gstatic.com/images?q=tbn:ANd9GcSJT1m10wftEHnCRVvRtPpYB6f7qxwyMDrfFpJtq8cupdPR4-AdWwh2smoHlw&amp;s\"/>,\n",
       " <img alt=\"\" class=\"yWs4tf\" src=\"https://encrypted-tbn0.gstatic.com/images?q=tbn:ANd9GcQEoGcTehPfBt44vuvC8wyJieRSiGKWqDO2UHbGG34cRttKR5nGr_NDLJHg_1s&amp;s\"/>,\n",
       " <img alt=\"\" class=\"yWs4tf\" src=\"https://encrypted-tbn0.gstatic.com/images?q=tbn:ANd9GcTQUsPf_AptMxPxhHgy7_K6gr9QnvDsneyJ_c2tIS2Ukq7aOsMl9oEffSC2GIw&amp;s\"/>,\n",
       " <img alt=\"\" class=\"yWs4tf\" src=\"https://encrypted-tbn0.gstatic.com/images?q=tbn:ANd9GcRupwJszfaV870yJEUAfyPRoqAlI2rjTuRb6uotBtGDrPphfMXw_JVFo0tcEk8&amp;s\"/>,\n",
       " <img alt=\"\" class=\"yWs4tf\" src=\"https://encrypted-tbn0.gstatic.com/images?q=tbn:ANd9GcQ43Kc2pyjIFDmBz3mYYp0PSImF3YF9HLetMTFJpOWKDO-7ZrXSNW_ZFl9NXH8&amp;s\"/>,\n",
       " <img alt=\"\" class=\"yWs4tf\" src=\"https://encrypted-tbn0.gstatic.com/images?q=tbn:ANd9GcTfS657Si9AL0_q3syl14D-NePVHM9xUKxQA-_8I_rjmm1MbQWXRq18dWF6zw&amp;s\"/>,\n",
       " <img alt=\"\" class=\"yWs4tf\" src=\"https://encrypted-tbn0.gstatic.com/images?q=tbn:ANd9GcSt0a8I31qFPl-3rz_IjWpG2MT62sMF2p0X9SwW7VEoVHer-YtZSJBrazocE0I&amp;s\"/>,\n",
       " <img alt=\"\" class=\"yWs4tf\" src=\"https://encrypted-tbn0.gstatic.com/images?q=tbn:ANd9GcTntuHPKq1GGDaijZKFVyIj2AWGwN3cyP8ncmMoVm3aWX2K0D2_BS8YLzZAkxg&amp;s\"/>,\n",
       " <img alt=\"\" class=\"yWs4tf\" src=\"https://encrypted-tbn0.gstatic.com/images?q=tbn:ANd9GcSY0Lq2_BcBEvQNCjmHjyVhjq2CJCZKHThaNSft_kuLPNXHpCLUZvQsEp3qlA&amp;s\"/>,\n",
       " <img alt=\"\" class=\"yWs4tf\" src=\"https://encrypted-tbn0.gstatic.com/images?q=tbn:ANd9GcRxMYSDUFfmgEFtsOu7-0zlX8Ono-2_6HC0tO8FUQsKWYXae76Z5-99xS-4BGQ&amp;s\"/>,\n",
       " <img alt=\"\" class=\"yWs4tf\" src=\"https://encrypted-tbn0.gstatic.com/images?q=tbn:ANd9GcRVPrNpCigshcn8PYrfFqIM2rGvT5jnSM18K9eiHfsiFNzTBDWkZ699iQ8kqik&amp;s\"/>,\n",
       " <img alt=\"\" class=\"yWs4tf\" src=\"https://encrypted-tbn0.gstatic.com/images?q=tbn:ANd9GcQPO-rPLwFAGZeR_zN-IVqOxA1eOMUBH4gxuEgZm9WpoSutHACrZogQgT1Yhg&amp;s\"/>]"
      ]
     },
     "execution_count": 54,
     "metadata": {},
     "output_type": "execute_result"
    }
   ],
   "source": [
    "image_tags"
   ]
  },
  {
   "cell_type": "code",
   "execution_count": 55,
   "id": "6f685cbb-6465-48dc-8a73-134c59cb4d93",
   "metadata": {},
   "outputs": [
    {
     "data": {
      "text/plain": [
       "20"
      ]
     },
     "execution_count": 55,
     "metadata": {},
     "output_type": "execute_result"
    }
   ],
   "source": [
    "len(image_tags)"
   ]
  },
  {
   "cell_type": "code",
   "execution_count": 56,
   "id": "f534e1ae-779c-4816-a2cf-61d355c623c3",
   "metadata": {},
   "outputs": [],
   "source": [
    "for i in image_tags:\n",
    "    image_url = i['src']\n",
    "    image_data = requests.get(image_url).content\n",
    "    with open(os.path.join(save_dir,f\"{query}_{image_tags.index(i)},jpg\"), \"wb\") as f:\n",
    "              f.write(image_data)"
   ]
  }
 ],
 "metadata": {
  "kernelspec": {
   "display_name": "pythonenv",
   "language": "python",
   "name": "pythonenv"
  },
  "language_info": {
   "codemirror_mode": {
    "name": "ipython",
    "version": 3
   },
   "file_extension": ".py",
   "mimetype": "text/x-python",
   "name": "python",
   "nbconvert_exporter": "python",
   "pygments_lexer": "ipython3",
   "version": "3.7.11"
  }
 },
 "nbformat": 4,
 "nbformat_minor": 5
}
